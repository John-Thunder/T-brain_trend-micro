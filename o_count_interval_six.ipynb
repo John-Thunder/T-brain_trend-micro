{
 "cells": [
  {
   "cell_type": "code",
   "execution_count": 4,
   "metadata": {},
   "outputs": [],
   "source": [
    "import numpy as np\n",
    "import pandas as pd"
   ]
  },
  {
   "cell_type": "code",
   "execution_count": 8,
   "metadata": {},
   "outputs": [],
   "source": [
    "# split to hour, minute, second\n",
    "\n",
    "def add_time_string(df):\n",
    "    df = df.reset_index(drop=True)\n",
    "    df[\"queryts_new\"] = pd.DataFrame(pd.to_datetime(df.queryts, unit='s'))\n",
    "    df.queryts_new = df.queryts_new.astype(str)\n",
    "\n",
    "    con = pd.DataFrame(df.queryts_new.str.split(\" \",2).tolist(), columns = ['a','b'])\n",
    "    con1 = pd.DataFrame(con.b.str.split(\":\",3).tolist(), columns = ['hr','min','sec'])\n",
    "    df[\"hr\"] = con1.hr\n",
    "    df.hr = pd.to_numeric(df.hr, errors = 'coerce')\n",
    "    \n",
    "    df = df.drop(\n",
    "        [\"customer_id\",\"queryts\",\"product_id\",\"month\",\"date\",\"date_new\",\"queryts_new\"], axis=1)\n",
    "\n",
    "    print (df.shape)\n",
    "    return df"
   ]
  },
  {
   "cell_type": "code",
   "execution_count": 14,
   "metadata": {},
   "outputs": [],
   "source": [
    "def count_interval_six(x):\n",
    "    x = pd.Series(x)\n",
    "    hr5 = sum(x < 6)\n",
    "    hr11 = sum(x < 12)\n",
    "    hr17 = sum(x < 18)\n",
    "    hr23 = sum(x < 24)\n",
    "    hr_0_5 = hr5\n",
    "    hr_6_11 = hr11 - hr5\n",
    "    hr_12_17 = hr17 - hr11\n",
    "    hr_18_23 = hr23 - hr17\n",
    "    return hr_0_5, hr_6_11, hr_12_17, hr_18_23\n",
    "\n",
    "def groupby_count_interval_six(df):\n",
    "    f = {'hr': lambda x: count_interval_six(x)}\n",
    "\n",
    "    g = df.groupby([\"file_id\"]).aggregate(f).reset_index()\n",
    "    g.columns = [\"file_id\", \"count_interval_six_list\"]\n",
    "\n",
    "    g_ = g['count_interval_six_list'].apply(pd.Series)\n",
    "    g_.columns = [\"hr_0_5\", \"hr_6_11\", \"hr_12_17\", \"hr_18_23\"]\n",
    "    g = pd.concat([g[[\"file_id\"]], g_], axis=1)\n",
    "    \n",
    "    return g"
   ]
  },
  {
   "cell_type": "code",
   "execution_count": 15,
   "metadata": {},
   "outputs": [
    {
     "name": "stdout",
     "output_type": "stream",
     "text": [
      "(54250245, 2)\n",
      "(52518, 5)\n"
     ]
    }
   ],
   "source": [
    "df = pd.DataFrame()\n",
    "for file_ in [\"train1\",\"train2\",\"train3\",\"valid\"]:\n",
    "    df_ = pd.read_pickle(\"dataset/\" + str(file_) + \".pkl\")\n",
    "    df = pd.concat([df, df_], axis=0)\n",
    "    \n",
    "df = add_time_string(df)\n",
    "g_train = groupby_count_interval_six(df)\n",
    "\n",
    "print (g_train.shape)"
   ]
  },
  {
   "cell_type": "code",
   "execution_count": 16,
   "metadata": {},
   "outputs": [
    {
     "name": "stdout",
     "output_type": "stream",
     "text": [
      "(29022865, 2)\n",
      "(29376, 5)\n"
     ]
    }
   ],
   "source": [
    "df = pd.DataFrame()\n",
    "for file_ in [\"test_1\",\"test_2\",\"test_3\"]:\n",
    "    df_ = pd.read_pickle(\"dataset/\" + str(file_) + \".pkl\")\n",
    "    df = pd.concat([df, df_], axis=0)\n",
    "\n",
    "df = add_time_string(df)\n",
    "g_test = groupby_count_interval_six(df)\n",
    "\n",
    "print (g_test.shape)"
   ]
  },
  {
   "cell_type": "code",
   "execution_count": 20,
   "metadata": {},
   "outputs": [],
   "source": [
    "g = pd.concat([g_train, g_test], axis=0).reset_index(drop=True)"
   ]
  },
  {
   "cell_type": "code",
   "execution_count": 21,
   "metadata": {},
   "outputs": [
    {
     "data": {
      "text/html": [
       "<div>\n",
       "<style scoped>\n",
       "    .dataframe tbody tr th:only-of-type {\n",
       "        vertical-align: middle;\n",
       "    }\n",
       "\n",
       "    .dataframe tbody tr th {\n",
       "        vertical-align: top;\n",
       "    }\n",
       "\n",
       "    .dataframe thead th {\n",
       "        text-align: right;\n",
       "    }\n",
       "</style>\n",
       "<table border=\"1\" class=\"dataframe\">\n",
       "  <thead>\n",
       "    <tr style=\"text-align: right;\">\n",
       "      <th></th>\n",
       "      <th>hr_0_5</th>\n",
       "      <th>hr_6_11</th>\n",
       "      <th>hr_12_17</th>\n",
       "      <th>hr_18_23</th>\n",
       "    </tr>\n",
       "  </thead>\n",
       "  <tbody>\n",
       "    <tr>\n",
       "      <th>count</th>\n",
       "      <td>81894.000000</td>\n",
       "      <td>81894.000000</td>\n",
       "      <td>81894.000000</td>\n",
       "      <td>81894.000000</td>\n",
       "    </tr>\n",
       "    <tr>\n",
       "      <th>mean</th>\n",
       "      <td>254.510550</td>\n",
       "      <td>254.407588</td>\n",
       "      <td>258.051970</td>\n",
       "      <td>249.870076</td>\n",
       "    </tr>\n",
       "    <tr>\n",
       "      <th>std</th>\n",
       "      <td>680.375733</td>\n",
       "      <td>639.861477</td>\n",
       "      <td>669.656205</td>\n",
       "      <td>723.096444</td>\n",
       "    </tr>\n",
       "    <tr>\n",
       "      <th>min</th>\n",
       "      <td>0.000000</td>\n",
       "      <td>0.000000</td>\n",
       "      <td>0.000000</td>\n",
       "      <td>0.000000</td>\n",
       "    </tr>\n",
       "    <tr>\n",
       "      <th>25%</th>\n",
       "      <td>15.000000</td>\n",
       "      <td>20.000000</td>\n",
       "      <td>13.000000</td>\n",
       "      <td>5.000000</td>\n",
       "    </tr>\n",
       "    <tr>\n",
       "      <th>50%</th>\n",
       "      <td>63.000000</td>\n",
       "      <td>72.000000</td>\n",
       "      <td>61.000000</td>\n",
       "      <td>34.000000</td>\n",
       "    </tr>\n",
       "    <tr>\n",
       "      <th>75%</th>\n",
       "      <td>202.000000</td>\n",
       "      <td>225.000000</td>\n",
       "      <td>212.000000</td>\n",
       "      <td>160.000000</td>\n",
       "    </tr>\n",
       "    <tr>\n",
       "      <th>max</th>\n",
       "      <td>35320.000000</td>\n",
       "      <td>50739.000000</td>\n",
       "      <td>25452.000000</td>\n",
       "      <td>20588.000000</td>\n",
       "    </tr>\n",
       "  </tbody>\n",
       "</table>\n",
       "</div>"
      ],
      "text/plain": [
       "             hr_0_5       hr_6_11      hr_12_17      hr_18_23\n",
       "count  81894.000000  81894.000000  81894.000000  81894.000000\n",
       "mean     254.510550    254.407588    258.051970    249.870076\n",
       "std      680.375733    639.861477    669.656205    723.096444\n",
       "min        0.000000      0.000000      0.000000      0.000000\n",
       "25%       15.000000     20.000000     13.000000      5.000000\n",
       "50%       63.000000     72.000000     61.000000     34.000000\n",
       "75%      202.000000    225.000000    212.000000    160.000000\n",
       "max    35320.000000  50739.000000  25452.000000  20588.000000"
      ]
     },
     "execution_count": 21,
     "metadata": {},
     "output_type": "execute_result"
    }
   ],
   "source": [
    "g.describe()"
   ]
  },
  {
   "cell_type": "code",
   "execution_count": 22,
   "metadata": {},
   "outputs": [],
   "source": [
    "g.to_csv(\"dataset/count_interval_six.csv\", index=False)"
   ]
  },
  {
   "cell_type": "code",
   "execution_count": null,
   "metadata": {},
   "outputs": [],
   "source": []
  }
 ],
 "metadata": {
  "kernelspec": {
   "display_name": "Python 3",
   "language": "python",
   "name": "python3"
  },
  "language_info": {
   "codemirror_mode": {
    "name": "ipython",
    "version": 3
   },
   "file_extension": ".py",
   "mimetype": "text/x-python",
   "name": "python",
   "nbconvert_exporter": "python",
   "pygments_lexer": "ipython3",
   "version": "3.6.4"
  }
 },
 "nbformat": 4,
 "nbformat_minor": 2
}
