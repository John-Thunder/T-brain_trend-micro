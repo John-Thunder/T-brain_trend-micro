{
 "cells": [
  {
   "cell_type": "code",
   "execution_count": 1,
   "metadata": {},
   "outputs": [],
   "source": [
    "import glob\n",
    "import numpy as np\n",
    "import pandas as pd"
   ]
  },
  {
   "cell_type": "code",
   "execution_count": 2,
   "metadata": {},
   "outputs": [
    {
     "name": "stdout",
     "output_type": "stream",
     "text": [
      "(81977, 3)\n"
     ]
    }
   ],
   "source": [
    "df_train_set = pd.read_csv(\"dataset/training-set.csv\")\n",
    "df_test_set = pd.read_csv(\"dataset/testing-set.csv\")\n",
    "\n",
    "df_train_set[\"type\"] = 'train'\n",
    "df_test_set[\"type\"] = 'test'\n",
    "\n",
    "df_set = pd.concat([df_train_set, df_test_set], axis = 0)\n",
    "print (df_set.shape)"
   ]
  },
  {
   "cell_type": "code",
   "execution_count": 3,
   "metadata": {},
   "outputs": [],
   "source": [
    "df_ = pd.read_csv(\"dataset/file_cust_prod_ct_uct.csv\")\n",
    "df_ = pd.merge(df_, df_set, how='left', on='file_id')"
   ]
  },
  {
   "cell_type": "code",
   "execution_count": 4,
   "metadata": {},
   "outputs": [
    {
     "name": "stdout",
     "output_type": "stream",
     "text": [
      "(45694, 41) (6824, 41) (29376, 41)\n"
     ]
    }
   ],
   "source": [
    "df_train = df_[(df_.type == 'train')&(df_.date_min <= 51)]\n",
    "df_val = df_[(df_.type == 'train')&(df_.date_min > 51)]\n",
    "df_test = df_[(df_.type == 'test')]\n",
    "\n",
    "print (df_train.shape, df_val.shape, df_test.shape)"
   ]
  },
  {
   "cell_type": "code",
   "execution_count": 5,
   "metadata": {},
   "outputs": [
    {
     "name": "stdout",
     "output_type": "stream",
     "text": [
      "(34956818, 5)\n"
     ]
    }
   ],
   "source": [
    "df = pd.DataFrame()\n",
    "for month_ in [\"train1\",\"train2\",\"train3\"]:\n",
    "    df_ = pd.read_pickle(\"dataset/\" + str(month_) + \".pkl\")\n",
    "    df = pd.concat([df, df_], axis=0)\n",
    "\n",
    "df = df.reset_index(drop=True)\n",
    "\n",
    "f = {'date_new': [\"min\"]}\n",
    "g = df.groupby([\"file_id\",\"customer_id\"]).aggregate(f).reset_index()\n",
    "g.columns = [\"file_id\",\"customer_id\",\"first_date\"]\n",
    "\n",
    "g = pd.merge(g, df_set, how='left', on='file_id')\n",
    "g = g.sort_values(by=[\"first_date\", \"file_id\"]).reset_index(drop=True)\n",
    "print (g.shape)"
   ]
  },
  {
   "cell_type": "code",
   "execution_count": 6,
   "metadata": {},
   "outputs": [
    {
     "name": "stdout",
     "output_type": "stream",
     "text": [
      "(34956818, 5) (0, 5)\n"
     ]
    }
   ],
   "source": [
    "g_train = g[g.file_id.isin(df_train.file_id)]\n",
    "g_val = g[g.file_id.isin(df_val.file_id)]\n",
    "\n",
    "print (g_train.shape, g_val.shape)"
   ]
  },
  {
   "cell_type": "code",
   "execution_count": 7,
   "metadata": {},
   "outputs": [],
   "source": [
    "# cumsum, cumcount customer_id\n",
    "\n",
    "g_train['label_cumsum'] = g_train.groupby(['customer_id'])['label'].cumsum()\n",
    "g_train['label_cumcount'] = g_train.groupby(['customer_id'])['label'].cumcount()  \n",
    "\n",
    "g_train[\"label_cs\"] = g_train.label_cumsum - g_train.label\n",
    "g_train[\"cust_me\"] = g_train.label_cs / (g_train.label_cumcount + 1e-10)"
   ]
  },
  {
   "cell_type": "code",
   "execution_count": 8,
   "metadata": {},
   "outputs": [
    {
     "name": "stdout",
     "output_type": "stream",
     "text": [
      "(44830, 5)\n"
     ]
    }
   ],
   "source": [
    "f = {'cust_me': [\"mean\",\"std\",\"max\",\"min\"]}\n",
    "g_train_me = g_train.groupby([\"file_id\"]).aggregate(f).reset_index()\n",
    "g_train_me.columns = [\"file_id\", \"cust_me_mean\", \"cust_me_std\", \"cust_me_max\", \"cust_me_min\"]\n",
    "print (g_train_me.shape)"
   ]
  },
  {
   "cell_type": "markdown",
   "metadata": {},
   "source": [
    "### Testing Set Mean Encoding"
   ]
  },
  {
   "cell_type": "code",
   "execution_count": 9,
   "metadata": {},
   "outputs": [],
   "source": [
    "f = {'first_date': [\"max\"], 'cust_me': lambda x: list(x)[-1]}\n",
    "g_cust_last = g_train.groupby([\"customer_id\"]).aggregate(f).reset_index()\n",
    "g_cust_last.columns = [\"customer_id\", \"last_date\", \"cust_me\"]"
   ]
  },
  {
   "cell_type": "code",
   "execution_count": 10,
   "metadata": {},
   "outputs": [
    {
     "name": "stdout",
     "output_type": "stream",
     "text": [
      "(27040934, 7)\n"
     ]
    }
   ],
   "source": [
    "df = pd.DataFrame()\n",
    "for month_ in [\"test_1\",\"test_2\",\"test_3\",\"valid\"]:\n",
    "    df_ = pd.read_pickle(\"dataset/\" + str(month_) + \".pkl\")\n",
    "    df = pd.concat([df, df_], axis=0)\n",
    "\n",
    "df = df.reset_index(drop=True)\n",
    "f = {'date_new': [\"min\"]}\n",
    "g = df.groupby([\"file_id\",\"customer_id\"]).aggregate(f).reset_index()\n",
    "g.columns = [\"file_id\",\"customer_id\",\"first_date\"]\n",
    "\n",
    "g = pd.concat([g, g_val], axis=0)\n",
    "\n",
    "g = pd.merge(g, g_cust_last, how='left', on='customer_id')\n",
    "g = g.sort_values(by=[\"first_date\", \"file_id\"]).reset_index(drop=True)\n",
    "print (g.shape)"
   ]
  },
  {
   "cell_type": "code",
   "execution_count": 11,
   "metadata": {
    "scrolled": true
   },
   "outputs": [
    {
     "name": "stdout",
     "output_type": "stream",
     "text": [
      "(40117, 5)\n"
     ]
    }
   ],
   "source": [
    "f = {'cust_me': [\"mean\",\"std\",\"max\",\"min\"]}\n",
    "g_test_me = g.groupby([\"file_id\"]).aggregate(f).reset_index()\n",
    "g_test_me.columns = [\"file_id\", \"cust_me_mean\", \"cust_me_std\", \"cust_me_max\", \"cust_me_min\"]\n",
    "print (g_test_me.shape)"
   ]
  },
  {
   "cell_type": "code",
   "execution_count": 12,
   "metadata": {},
   "outputs": [],
   "source": [
    "g = pd.concat([g_train_me, g_test_me], axis=0)"
   ]
  },
  {
   "cell_type": "code",
   "execution_count": 13,
   "metadata": {},
   "outputs": [
    {
     "data": {
      "text/plain": [
       "file_id            0\n",
       "cust_me_mean     878\n",
       "cust_me_std     4581\n",
       "cust_me_max      878\n",
       "cust_me_min      878\n",
       "dtype: int64"
      ]
     },
     "execution_count": 13,
     "metadata": {},
     "output_type": "execute_result"
    }
   ],
   "source": [
    "g.isnull().sum()"
   ]
  },
  {
   "cell_type": "code",
   "execution_count": 14,
   "metadata": {},
   "outputs": [],
   "source": [
    "g['cust_me_mean'] = g['cust_me_mean'].fillna(g['cust_me_mean'].mean())\n",
    "g['cust_me_min'] = g['cust_me_min'].fillna(g['cust_me_min'].mean())\n",
    "g['cust_me_max'] = g['cust_me_max'].fillna(g['cust_me_max'].mean())\n",
    "g['cust_me_std']=g['cust_me_std'].fillna(-999.0)"
   ]
  },
  {
   "cell_type": "code",
   "execution_count": 15,
   "metadata": {},
   "outputs": [],
   "source": [
    "g.to_csv(\"dataset/cust_ec_new.csv\", index=False)"
   ]
  },
  {
   "cell_type": "code",
   "execution_count": null,
   "metadata": {},
   "outputs": [],
   "source": []
  }
 ],
 "metadata": {
  "kernelspec": {
   "display_name": "Python 3",
   "language": "python",
   "name": "python3"
  },
  "language_info": {
   "codemirror_mode": {
    "name": "ipython",
    "version": 3
   },
   "file_extension": ".py",
   "mimetype": "text/x-python",
   "name": "python",
   "nbconvert_exporter": "python",
   "pygments_lexer": "ipython3",
   "version": "3.6.4"
  }
 },
 "nbformat": 4,
 "nbformat_minor": 2
}
