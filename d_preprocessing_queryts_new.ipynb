{
 "cells": [
  {
   "cell_type": "code",
   "execution_count": 1,
   "metadata": {},
   "outputs": [],
   "source": [
    "import operator\n",
    "import numpy as np\n",
    "import pandas as pd"
   ]
  },
  {
   "cell_type": "code",
   "execution_count": 2,
   "metadata": {},
   "outputs": [],
   "source": [
    "# 計算每個檔案間隔時間，(0的比例, 小於10的比例, 小於30的比例)\n",
    "\n",
    "def interval(x):\n",
    "    df_ = sorted(list(x))\n",
    "    if len(df_) > 1:\n",
    "        A = df_[1:len(df_)]\n",
    "        B = df_[:len(df_)-1]\n",
    "        interval_list = list(map(operator.sub, A, B))\n",
    "    else:\n",
    "        interval_list = [0]\n",
    "\n",
    "    interval_series = pd.Series(interval_list)\n",
    "    _mean = np.mean(interval_list)\n",
    "    _std = np.std(interval_list)\n",
    "    sic1 = sum(interval_series < 1)\n",
    "    sic2 = sum(interval_series < 10)\n",
    "    sic3 = sum(interval_series < 30)\n",
    "    sic4 = sum(interval_series < 60)\n",
    "    sic5 = sum(interval_series < 300)\n",
    "    lic = sum(interval_series >= 300)\n",
    "    return _mean, _std, sic1, sic2, sic3, sic4, sic5,lic\n",
    "\n",
    "def groupby_queryts(df_val):\n",
    "    f = {'queryts': [\"count\", lambda x: interval(x)]}\n",
    "\n",
    "    g = df_val.groupby([\"file_id\"]).aggregate(f).reset_index()\n",
    "    g.columns = [\"file_id\", \"_count\", \"queryts_list\"]\n",
    "\n",
    "    g_ = g['queryts_list'].apply(pd.Series)\n",
    "    g_.columns = [\n",
    "        \"file_id_inteval_mean\", \"file_id_inteval_std\",\n",
    "        \"sic1\", \"sic2\", \"sic3\", \"sic4\", \"sic5\", \"lic\"\n",
    "    ]\n",
    "    g = pd.concat([g[[\"file_id\",\"_count\"]], g_], axis=1)\n",
    "    g[\"file_id_sir1\"] = g.sic1 / g._count\n",
    "    g[\"file_id_sir2\"] = (g.sic2 - g.sic1) / g._count\n",
    "    g[\"file_id_sir3\"] = (g.sic3 - g.sic2) / g._count\n",
    "    g[\"file_id_sir4\"] = (g.sic4 - g.sic3) / g._count\n",
    "    g[\"file_id_sir5\"] = (g.sic5 - g.sic4) / g._count\n",
    "    g[\"file_id_lir\"] = g.lic / g._count\n",
    "    g = g.drop([\"_count\",\"sic1\", \"sic2\", \"sic3\", \"sic4\", \"sic5\", \"lic\"], axis=1)\n",
    "    \n",
    "    print (g.shape)\n",
    "    return g"
   ]
  },
  {
   "cell_type": "code",
   "execution_count": 3,
   "metadata": {},
   "outputs": [],
   "source": [
    "def groupby_queryts_ed(df_):\n",
    "    # step 1: calculate number each day\n",
    "    f = {'queryts': [\"count\", lambda x: interval(x)]}\n",
    "\n",
    "    g = df_.groupby([\"file_id\", \"date_new\"]).aggregate(f).reset_index()\n",
    "    g.columns = [\"file_id\", \"date_new\", \"_count\", \"queryts_list\"]\n",
    "\n",
    "    g_ = g['queryts_list'].apply(pd.Series)\n",
    "    g_.columns = [\n",
    "        \"file_id_inteval_mean\", \"file_id_inteval_std\",\"sic1\", \"sic2\", \"sic3\", \"sic4\", \"sic5\", \"lic\"]\n",
    "    g = pd.concat([g[[\"file_id\", \"date_new\", \"_count\"]], g_], axis=1)\n",
    "    g[\"file_id_sir1\"] = g.sic1 / g._count\n",
    "    g[\"file_id_sir2\"] = (g.sic2 - g.sic1) / g._count\n",
    "    g[\"file_id_sir3\"] = (g.sic3 - g.sic2) / g._count\n",
    "    g[\"file_id_sir4\"] = (g.sic4 - g.sic3) / g._count\n",
    "    g[\"file_id_sir5\"] = (g.sic5 - g.sic4) / g._count\n",
    "    g[\"file_id_lir\"] = g.lic / g._count\n",
    "    g = g.drop([\"_count\",\"sic1\", \"sic2\", \"sic3\", \"sic4\", \"sic5\", \"lic\"], axis=1)\n",
    "\n",
    "    # step 2: list unique number each day\n",
    "    f2 = lambda x: x - min(x)\n",
    "\n",
    "    g_1 = g.groupby('file_id')[\"date_new\"].apply(f2).reset_index(drop = True)\n",
    "    g[\"date_perfile\"] = g_1\n",
    "\n",
    "    g2_col = ['file_id']\n",
    "    for d in range(3):\n",
    "        for varible_ in g.columns[2:10]:\n",
    "            g2_col.append(varible_ + \"_d\" + str(d+1))\n",
    "\n",
    "    g2 = g[(g.date_perfile == 0)]\n",
    "    g2 = g2.drop(['date_new', 'date_perfile'], axis=1)\n",
    "    for i in range(1, 3):\n",
    "        g_ = g[(g.date_perfile == i)]\n",
    "        g_ = g_.drop(['date_new', 'date_perfile'], axis=1)\n",
    "        g2 = pd.merge(g2, g_, how=\"left\", on=\"file_id\")\n",
    "\n",
    "    g2 = g2.fillna(0)\n",
    "    g2.columns = g2_col\n",
    "    \n",
    "    print (g2.shape)\n",
    "    return g2"
   ]
  },
  {
   "cell_type": "code",
   "execution_count": 4,
   "metadata": {},
   "outputs": [
    {
     "name": "stdout",
     "output_type": "stream",
     "text": [
      "(52518, 9)\n",
      "(52518, 25)\n",
      "(52518, 33)\n"
     ]
    }
   ],
   "source": [
    "df = pd.DataFrame()\n",
    "for file_ in [\"train1\",\"train2\",\"train3\",\"valid\"]:\n",
    "    df_ = pd.read_pickle(\"dataset/\" + str(file_) + \".pkl\")\n",
    "    df = pd.concat([df, df_], axis=0)\n",
    "\n",
    "g_train = groupby_queryts(df)\n",
    "g2 = groupby_queryts_ed(df)\n",
    "\n",
    "g_train = pd.merge(g_train, g2, how = \"left\", on = \"file_id\")\n",
    "print (g_train.shape)"
   ]
  },
  {
   "cell_type": "code",
   "execution_count": 5,
   "metadata": {},
   "outputs": [
    {
     "name": "stdout",
     "output_type": "stream",
     "text": [
      "(29376, 9)\n",
      "(29376, 25)\n",
      "(29376, 33)\n"
     ]
    }
   ],
   "source": [
    "df = pd.DataFrame()\n",
    "for file_ in [\"test_1\",\"test_2\",\"test_3\"]:\n",
    "    df_ = pd.read_pickle(\"dataset/\" + str(file_) + \".pkl\")\n",
    "    df = pd.concat([df, df_], axis=0)\n",
    "\n",
    "g_test = groupby_queryts(df)\n",
    "g2 = groupby_queryts_ed(df)\n",
    "\n",
    "g_test = pd.merge(g_test, g2, how = \"left\", on = \"file_id\")\n",
    "print (g_test.shape)"
   ]
  },
  {
   "cell_type": "code",
   "execution_count": 6,
   "metadata": {},
   "outputs": [],
   "source": [
    "g = pd.concat([g_train, g_test], axis=0)\n",
    "\n",
    "g.to_csv(\"dataset/queryts.csv\", index=False)"
   ]
  },
  {
   "cell_type": "code",
   "execution_count": 7,
   "metadata": {},
   "outputs": [
    {
     "name": "stdout",
     "output_type": "stream",
     "text": [
      "(81894, 33)\n"
     ]
    },
    {
     "data": {
      "text/plain": [
       "file_id                    0000e2398b12121a85166fed5fe2a3da\n",
       "file_id_inteval_mean                                   8116\n",
       "file_id_inteval_std                                 42742.1\n",
       "file_id_sir1                                      0.0638298\n",
       "file_id_sir2                                       0.765957\n",
       "file_id_sir3                                      0.0425532\n",
       "file_id_sir4                                              0\n",
       "file_id_sir5                                              0\n",
       "file_id_lir                                        0.106383\n",
       "file_id_inteval_mean_d1                             526.738\n",
       "file_id_inteval_std_d1                              1954.01\n",
       "file_id_sir1_d1                                   0.0697674\n",
       "file_id_sir2_d1                                    0.790698\n",
       "file_id_sir3_d1                                   0.0465116\n",
       "file_id_sir4_d1                                           0\n",
       "file_id_sir5_d1                                           0\n",
       "file_id_lir_d1                                    0.0697674\n",
       "file_id_inteval_mean_d2                                 4.5\n",
       "file_id_inteval_std_d2                                  2.5\n",
       "file_id_sir1_d2                                           0\n",
       "file_id_sir2_d2                                    0.666667\n",
       "file_id_sir3_d2                                           0\n",
       "file_id_sir4_d2                                           0\n",
       "file_id_sir5_d2                                           0\n",
       "file_id_lir_d2                                            0\n",
       "file_id_inteval_mean_d3                                   0\n",
       "file_id_inteval_std_d3                                    0\n",
       "file_id_sir1_d3                                           0\n",
       "file_id_sir2_d3                                           0\n",
       "file_id_sir3_d3                                           0\n",
       "file_id_sir4_d3                                           0\n",
       "file_id_sir5_d3                                           0\n",
       "file_id_lir_d3                                            0\n",
       "Name: 0, dtype: object"
      ]
     },
     "execution_count": 7,
     "metadata": {},
     "output_type": "execute_result"
    }
   ],
   "source": [
    "print (g.shape)\n",
    "g.iloc[0, :]"
   ]
  }
 ],
 "metadata": {
  "kernelspec": {
   "display_name": "Python 3",
   "language": "python",
   "name": "python3"
  },
  "language_info": {
   "codemirror_mode": {
    "name": "ipython",
    "version": 3
   },
   "file_extension": ".py",
   "mimetype": "text/x-python",
   "name": "python",
   "nbconvert_exporter": "python",
   "pygments_lexer": "ipython3",
   "version": "3.6.4"
  }
 },
 "nbformat": 4,
 "nbformat_minor": 2
}
