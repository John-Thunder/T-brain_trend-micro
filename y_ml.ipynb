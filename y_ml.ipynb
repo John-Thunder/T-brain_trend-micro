{
 "cells": [
  {
   "cell_type": "code",
   "execution_count": 34,
   "metadata": {},
   "outputs": [],
   "source": [
    "import pandas as pd\n",
    "import numpy as np"
   ]
  },
  {
   "cell_type": "code",
   "execution_count": 35,
   "metadata": {},
   "outputs": [
    {
     "name": "stdout",
     "output_type": "stream",
     "text": [
      "(81977, 11)\n"
     ]
    }
   ],
   "source": [
    "df_train_set = pd.read_csv(\"dataset/training-set.csv\")\n",
    "df_test_set = pd.read_csv(\"dataset/testing-set.csv\")\n",
    "df_train_set[\"type\"] = 'train'\n",
    "df_test_set[\"type\"] = 'test'\n",
    "\n",
    "df_week_expenc_feat = pd.read_csv(\"dataset/week_expenc_feat.csv\")\n",
    "df_wk_enc_feat = pd.read_csv(\"dataset/wk_enc_feat.csv\")\n",
    "\n",
    "df_week_expenc_feat_val = pd.read_csv(\"dataset/week_expenc_feat_val.csv\")\n",
    "df_wk_enc_feat_val = pd.read_csv(\"dataset/wk_enc_feat_val.csv\")\n",
    "\n",
    "df_train_set = pd.merge(df_train_set, df_week_expenc_feat_val, how='left', on='file_id')\n",
    "df_test_set = pd.merge(df_test_set, df_wk_enc_feat, how='left', on='file_id')\n",
    "df = pd.concat([df_train_set, df_test_set],axis=0)\n",
    "\n",
    "print (df.shape)"
   ]
  },
  {
   "cell_type": "code",
   "execution_count": 36,
   "metadata": {},
   "outputs": [],
   "source": [
    "df['enc_prod_mean'] = df['enc_prod_mean'].fillna(df['enc_prod_mean'].mean())\n",
    "df['enc_cust_mean'] = df['enc_cust_mean'].fillna(df['enc_cust_mean'].mean())\n",
    "\n",
    "df['enc_prod_min'] = df['enc_prod_min'].fillna(df['enc_prod_min'].min())\n",
    "df['enc_cust_min'] = df['enc_cust_min'].fillna(df['enc_cust_min'].min())\n",
    "\n",
    "df['enc_prod_max'] = df['enc_prod_max'].fillna(df['enc_prod_max'].max())\n",
    "df['enc_cust_max'] = df['enc_cust_max'].fillna(df['enc_cust_max'].max())\n",
    "\n",
    "df['enc_prod_std']=df['enc_prod_std'].fillna(-999.0)\n",
    "df['enc_cust_std']=df['enc_cust_std'].fillna(-999.0)"
   ]
  },
  {
   "cell_type": "code",
   "execution_count": 37,
   "metadata": {},
   "outputs": [
    {
     "name": "stdout",
     "output_type": "stream",
     "text": [
      "(81894, 5) (81894, 5) (81894, 5)\n"
     ]
    }
   ],
   "source": [
    "def merge_rep(df):\n",
    "    f = {\n",
    "        df.columns[1]: 'mean', df.columns[2]: 'mean', df.columns[3]: 'max', df.columns[4]: 'min'\n",
    "    }\n",
    "    df_new = df.groupby([\"file_id\"]).aggregate(f).reset_index()\n",
    "    df_new.columns = df.columns\n",
    "    return df_new\n",
    "\n",
    "df_cust_enc1 = pd.read_csv(\"dataset/cust_ec_new.csv\")\n",
    "df_custXprod_enc = pd.read_csv(\"dataset/custXprod_ec_new.csv\")\n",
    "df_custXprodXdate_enc = pd.read_csv(\"dataset/custXprodXdate_ec.csv\")\n",
    "\n",
    "df_cust_enc1 = merge_rep(df_cust_enc1)\n",
    "df_custXprod_enc = merge_rep(df_custXprod_enc)\n",
    "df_custXprodXdate_enc = merge_rep(df_custXprodXdate_enc)\n",
    "\n",
    "print (df_cust_enc1.shape, df_custXprod_enc.shape, df_custXprodXdate_enc.shape)"
   ]
  },
  {
   "cell_type": "code",
   "execution_count": 38,
   "metadata": {
    "scrolled": true
   },
   "outputs": [
    {
     "name": "stdout",
     "output_type": "stream",
     "text": [
      "(81977, 184)\n",
      "number of train : 52559\n",
      "number of test  : 29418\n"
     ]
    }
   ],
   "source": [
    "# import label and feature coming from BC\n",
    "\n",
    "df_garbage = pd.read_csv(\"dataset/garbage_info.csv\")\n",
    "df_FileIdOverCoustomerId = pd.read_csv(\"dataset/FileIdOverCoustomerId.csv\")\n",
    "df_file_cust_prod_ct_uct = pd.read_csv(\"dataset/file_cust_prod_ct_uct.csv\")\n",
    "df_hour = pd.read_csv(\"dataset/hour.csv\")\n",
    "df_count_interval_six = pd.read_csv(\"dataset/count_interval_six.csv\")\n",
    "df_count_min_interval_15 = pd.read_csv(\"dataset/count_min_interval_15.csv\")\n",
    "df_file_mins_count_big_ratio = pd.read_csv(\"dataset/file_mins_count_big_ratio.csv\")\n",
    "df_queryts = pd.read_csv(\"dataset/queryts.csv\")\n",
    "df_mean_enc = pd.read_csv(\"dataset/file_mean_enc.csv\")\n",
    "df_cust_enc = pd.read_csv(\"dataset/custXprod_enc_all_perday.csv\") #_ap, _all, cust_enc_all_perday\n",
    "df_prod_enc = pd.read_csv(\"dataset/prod_enc.csv\")\n",
    "df_product_cnt = pd.read_csv(\"dataset/product_cnt.csv\")\n",
    "df_hour_interval = pd.read_csv(\"dataset/hour_interval.csv\")\n",
    "\n",
    "df = pd.merge(df, df_file_cust_prod_ct_uct, how='left', on=[\"file_id\"])\n",
    "df = pd.merge(df, df_hour, how='left', on=[\"file_id\"])\n",
    "df = pd.merge(df, df_count_interval_six, how='left', on=[\"file_id\"])\n",
    "df = pd.merge(df, df_count_min_interval_15, how='left', on=[\"file_id\"])\n",
    "df = pd.merge(df, df_queryts, how='left', on=[\"file_id\"])\n",
    "df = pd.merge(df, df_garbage, how='left', on=[\"file_id\"])\n",
    "df = pd.merge(df, df_mean_enc, how='left', on=[\"file_id\"])\n",
    "df = pd.merge(df, df_FileIdOverCoustomerId, how='left', on=[\"file_id\"])\n",
    "df = pd.merge(df, df_cust_enc, how='left', on=[\"file_id\"])\n",
    "df = pd.merge(df, df_cust_enc1, how='left', on=[\"file_id\"])\n",
    "df = pd.merge(df, df_prod_enc, how='left', on=[\"file_id\"])\n",
    "df = pd.merge(df, df_custXprod_enc, how='left', on=[\"file_id\"])\n",
    "df = pd.merge(df, df_custXprodXdate_enc, how='left', on=[\"file_id\"])\n",
    "df = pd.merge(df, df_file_mins_count_big_ratio, how='left', on=[\"file_id\"])\n",
    "df = pd.merge(df, df_product_cnt, how='left', on=[\"file_id\"])\n",
    "df = pd.merge(df, df_hour_interval, how='left', on=[\"file_id\"])\n",
    "\n",
    "df = df.fillna(-999.0)\n",
    "print (df.shape)\n",
    "print (\"number of train :\", df_train_set.shape[0])\n",
    "print (\"number of test  :\", df_test_set.shape[0])"
   ]
  },
  {
   "cell_type": "code",
   "execution_count": 39,
   "metadata": {},
   "outputs": [
    {
     "name": "stdout",
     "output_type": "stream",
     "text": [
      "(45735, 184) (6824, 184) (29418, 184)\n"
     ]
    }
   ],
   "source": [
    "df_train = df[(df.type == 'train')&(df.date_min <= 51)].reset_index(drop=True)\n",
    "df_val = df[(df.type == 'train')&(df.date_min > 51)].reset_index(drop=True)\n",
    "df_test = df[(df.type == 'test')].reset_index(drop=True)\n",
    "\n",
    "print (df_train.shape, df_val.shape, df_test.shape)"
   ]
  },
  {
   "cell_type": "code",
   "execution_count": 40,
   "metadata": {},
   "outputs": [],
   "source": [
    "from sklearn.linear_model import LogisticRegression\n",
    "from sklearn.tree import DecisionTreeClassifier\n",
    "from sklearn.ensemble import RandomForestClassifier, GradientBoostingClassifier, ExtraTreesClassifier\n",
    "from sklearn.feature_selection import SelectFromModel\n",
    "from sklearn.metrics import auc, roc_curve"
   ]
  },
  {
   "cell_type": "code",
   "execution_count": 41,
   "metadata": {},
   "outputs": [],
   "source": [
    "def auc_f(rfc, X, y):\n",
    "    pred_prob = rfc.predict_proba(X)\n",
    "    pred_prob = pd.DataFrame(pred_prob, columns=[\"label_0\", \"label_1\"])\n",
    "    pred = np.array(pred_prob[\"label_1\"]).reshape(y.shape[0], )\n",
    "\n",
    "    fpr, tpr, thresholds = roc_curve(y, pred, pos_label=1)\n",
    "    auc_ = auc(fpr, tpr)\n",
    "    return auc_, pred"
   ]
  },
  {
   "cell_type": "code",
   "execution_count": 42,
   "metadata": {},
   "outputs": [],
   "source": [
    "from matplotlib import pyplot as plt\n",
    "\n",
    "def plot_importance(rfc):\n",
    "    imp = pd.DataFrame(data = rfc.feature_importances_,\n",
    "                       index = df_train.drop(col_del, axis=1).columns,\n",
    "                       columns = [\"important\"])\n",
    "    imp.plot(kind = \"barh\", figsize = (8, 30), alpha = 0.8)\n",
    "    plt.show()"
   ]
  },
  {
   "cell_type": "code",
   "execution_count": 43,
   "metadata": {},
   "outputs": [],
   "source": [
    "col_del = [\n",
    "    'file_id', 'label', 'type', 'date_count', 'date_during', 'date_max', 'date_min'\n",
    "]\n",
    "X_train = df_train.drop(col_del, axis=1)\n",
    "y_train = np.array(df_train[\"label\"]).reshape(df_train.shape[0], )\n",
    "X_val = df_val.drop(col_del, axis=1)\n",
    "y_val = np.array(df_val[\"label\"]).reshape(df_val.shape[0], )\n",
    "X_test = df_test.drop(col_del, axis=1)"
   ]
  },
  {
   "cell_type": "raw",
   "metadata": {
    "collapsed": true
   },
   "source": [
    "# 標準化\n",
    "\n",
    "from sklearn.preprocessing import StandardScaler\n",
    "\n",
    "sc = StandardScaler(copy=True, with_mean=True, with_std=True)\n",
    "sc.fit(X_train)\n",
    "\n",
    "X_train = sc.transform(X_train)\n",
    "X_val = sc.transform(X_val)\n",
    "X_test = sc.transform(X_test)"
   ]
  },
  {
   "cell_type": "raw",
   "metadata": {
    "scrolled": false
   },
   "source": [
    "rfc = RandomForestClassifier(\n",
    "    n_estimators = 800, max_features = 0.75,# for each split sample columns\n",
    "    max_depth = 18, min_samples_split = 50, min_samples_leaf = 50,\n",
    "    min_weight_fraction_leaf = 0.0, max_leaf_nodes = None, min_impurity_decrease = 1e-07,\n",
    "    bootstrap = True, oob_score = False, n_jobs = 1, random_state = 18131, verbose = 1,\n",
    "    warm_start = False, class_weight = 'balanced', criterion='gini'\n",
    ")\n",
    "rfc.fit(X_train, y_train)\n",
    "print (auc_f(rfc, X_train, y_train), auc_f(rfc, X_val, y_val))\n",
    "plot_importance(rfc)"
   ]
  },
  {
   "cell_type": "code",
   "execution_count": 44,
   "metadata": {},
   "outputs": [],
   "source": [
    "# learning rate: between 0.05 to 0.2\n",
    "# min_samples_split: should be ~0.5-1% of total values.\n",
    "# min_samples_leaf: small value because of imbalanced classes.\n",
    "# max_depth: Should be chosen (5-8)\n",
    "# max_features: \"sqrt\", Its a general thumb-rule to start with square root.\n",
    "# subsample: 0.8\n",
    "\n",
    "def ensemble_gbm(lr, rs):\n",
    "    gbm = GradientBoostingClassifier(\n",
    "        min_samples_split=50, min_samples_leaf=5, min_weight_fraction_leaf=0.0,\n",
    "        max_depth=5, max_leaf_nodes=None, max_features=\"sqrt\",\n",
    "        learning_rate=lr, n_estimators=200, subsample=0.8, loss=\"exponential\",\n",
    "        init=None, random_state=rs, verbose=0, warm_start=False, presort=\"auto\",\n",
    "        criterion=\"friedman_mse\", min_impurity_decrease=0.0, min_impurity_split=None\n",
    "    )\n",
    "    gbm.fit(X_train, y_train)\n",
    "\n",
    "    auc_train, _ = auc_f(gbm, X_train, y_train)\n",
    "    auc_val, pred_val = auc_f(gbm, X_val, y_val)\n",
    "\n",
    "    print (auc_train, auc_val)    \n",
    "    return pred_val, gbm"
   ]
  },
  {
   "cell_type": "code",
   "execution_count": 45,
   "metadata": {},
   "outputs": [
    {
     "name": "stdout",
     "output_type": "stream",
     "text": [
      "0.9926741509652695 0.9554919130961896\n",
      "0.9926630856468018 0.9571691396491878\n",
      "0.9926027349398896 0.9560695215039441\n",
      "0.9925717111601673 0.9550710620504326\n",
      "0.9926572897709854 0.956079560152742\n",
      "0.9925272710012409 0.9556506009675714\n",
      "0.992613314713205 0.9549739574284071\n",
      "0.9958993054179489 0.9566563963567427\n",
      "0.9960502179622411 0.9573322676921532\n",
      "0.9958598331525794 0.95732531785837\n",
      "0.9959573203971294 0.9558834203993066\n",
      "0.9958385202759005 0.9569592932791245\n",
      "0.9959246048758772 0.9584363260089808\n",
      "0.9961618422372213 0.9566878636597053\n",
      "0.9985060031218203 0.9564469360885564\n",
      "0.9985140682823477 0.955945582801478\n",
      "0.9985341545186421 0.9577370955100214\n",
      "0.9985127394219312 0.9560175908015088\n",
      "0.9985443151898263 0.9568677871343132\n",
      "0.9984882679462624 0.9573210707377249\n",
      "0.9984739724747826 0.9570973247000953\n"
     ]
    }
   ],
   "source": [
    "col_ = 0\n",
    "pred = pd.DataFrame()\n",
    "for i in [0.05, 0.1, 0.2]:\n",
    "    for j in [100, 1000, 10000, 200, 2000, 500, 4000]:\n",
    "        col_name = \"p\" + str(col_)\n",
    "        pred_, gbm = ensemble_gbm(i, j)\n",
    "        pred_ = pd.DataFrame(pred_, columns=[col_name])\n",
    "        pred = pd.concat([pred, pred_], axis=1)\n",
    "        col_ += 1"
   ]
  },
  {
   "cell_type": "code",
   "execution_count": 46,
   "metadata": {},
   "outputs": [
    {
     "data": {
      "text/plain": [
       "0.9579654747701728"
      ]
     },
     "execution_count": 46,
     "metadata": {},
     "output_type": "execute_result"
    }
   ],
   "source": [
    "pred_mean = pred.mean(axis=1)\n",
    "fpr, tpr, thresholds = roc_curve(y_val, pred_mean, pos_label=1)\n",
    "auc(fpr, tpr)"
   ]
  },
  {
   "cell_type": "code",
   "execution_count": 47,
   "metadata": {},
   "outputs": [
    {
     "name": "stdout",
     "output_type": "stream",
     "text": [
      "[[1.         0.99466873]\n",
      " [0.99466873 1.        ]]\n"
     ]
    },
    {
     "data": {
      "image/png": "[encoded data removed]",
      "text/plain": [
       "<matplotlib.figure.Figure at 0x10f8b8208>"
      ]
     },
     "metadata": {},
     "output_type": "display_data"
    }
   ],
   "source": [
    "print (np.corrcoef(pred.p0, pred.p6))\n",
    "\n",
    "pred.plot(kind=\"scatter\", x=\"p0\", y=\"p6\")\n",
    "plt.show()"
   ]
  },
  {
   "cell_type": "raw",
   "metadata": {},
   "source": [
    "# all: 0.9643\n",
    "\n",
    "plot_importance(gbm)"
   ]
  },
  {
   "cell_type": "markdown",
   "metadata": {},
   "source": [
    "### feature selection"
   ]
  },
  {
   "cell_type": "raw",
   "metadata": {
    "collapsed": true
   },
   "source": [
    "clf = ExtraTreesClassifier(\n",
    "    n_estimators=100, criterion=\"gini\", max_depth=None, min_samples_split=50,\n",
    "    min_samples_leaf=5, min_weight_fraction_leaf=0.0, max_features=\"sqrt\",\n",
    "    max_leaf_nodes=None, min_impurity_decrease=0.0, min_impurity_split=None,\n",
    "    bootstrap=True, oob_score=False, n_jobs=1, random_state=100, verbose=0,\n",
    "    warm_start=False, class_weight={0:0.875, 1:0.125}\n",
    ")\n",
    "clf = clf.fit(X_train, y_train)\n",
    "\n",
    "model = SelectFromModel(clf, prefit=True)\n",
    "X_train_new = model.transform(X_train)\n",
    "X_val_new = model.transform(X_val)\n",
    "\n",
    "gbm.fit(X_train_new, y_train)\n",
    "\n",
    "print (\"result of feature selection :\", X_train_new.shape)\n",
    "print (auc_f(gbm, X_train_new, y_train), auc_f(gbm, X_val_new, y_val))"
   ]
  },
  {
   "cell_type": "markdown",
   "metadata": {},
   "source": [
    "### parameter tuning"
   ]
  },
  {
   "cell_type": "raw",
   "metadata": {},
   "source": [
    "from sklearn.model_selection import GridSearchCV\n",
    "\n",
    "gbm = GradientBoostingClassifier(\n",
    "    subsample=0.8, min_weight_fraction_leaf=0.0, max_leaf_nodes=None,\n",
    "    init=None, random_state=100, verbose=0,  warm_start=False, presort=\"auto\",\n",
    "    criterion=\"friedman_mse\", min_impurity_decrease=0.0, min_impurity_split=None\n",
    ")\n",
    "parameters = {\n",
    "    'loss': [\"exponential\"],#\"deviance\"\n",
    "    'learning_rate': [0.1, 0.2, 0.3],\n",
    "    'min_samples_split': [22, 33, 44],\n",
    "    'min_samples_leaf': [4, 7, 10],\n",
    "    'max_depth': [5, 7, 9],\n",
    "    'max_features': [\"sqrt\"],#\"log2\"\n",
    "    'n_estimators': [50, 100, 150]\n",
    "}\n",
    "clf = GridSearchCV(gbm, parameters, cv=5, verbose=1)\n",
    "clf.fit(df_train.drop(col_del, axis=1), df_train[\"label\"])\n",
    "clf.best_estimator_"
   ]
  },
  {
   "cell_type": "raw",
   "metadata": {},
   "source": [
    "gbm = clf.best_estimator_\n",
    "gbm.fit(X_train, y_train)\n",
    "\n",
    "print (auc_f(gbm, X_train, y_train), auc_f(gbm, X_val, y_val))"
   ]
  },
  {
   "cell_type": "markdown",
   "metadata": {},
   "source": [
    "### submit"
   ]
  },
  {
   "cell_type": "code",
   "execution_count": 48,
   "metadata": {},
   "outputs": [],
   "source": [
    "def submit(rfc, X_test):\n",
    "    rfc.fit(df.drop(col_del, axis=1), df[\"label\"])\n",
    "    pred_prob = rfc.predict_proba(X_test)\n",
    "    pred_prob = pd.DataFrame(pred_prob, columns=[\"label_0\", \"Probability\"])\n",
    "\n",
    "    df_sub = pd.concat([df_test.file_id, pred_prob.Probability], axis = 1)\n",
    "    df_sub = pd.merge(df_test_set[[\"file_id\"]], df_sub, how = \"left\", on = \"file_id\")\n",
    "    df_sub = df_sub.fillna(0)\n",
    "    df_sub.columns = [\"FileID\", \"Probability\"]\n",
    "    return df_sub\n",
    "\n",
    "def testing(lr, rs):\n",
    "    gbm = GradientBoostingClassifier(\n",
    "        min_samples_split=50, min_samples_leaf=5, min_weight_fraction_leaf=0.0,\n",
    "        max_depth=5, max_leaf_nodes=None, max_features=\"sqrt\",\n",
    "        learning_rate=lr, n_estimators=200, subsample=0.8, loss=\"exponential\",\n",
    "        init=None, random_state=rs, verbose=0, warm_start=False, presort=\"auto\",\n",
    "        criterion=\"friedman_mse\", min_impurity_decrease=0.0, min_impurity_split=None\n",
    "    )\n",
    "    df_sub = submit(gbm, X_test)\n",
    "    return df_sub"
   ]
  },
  {
   "cell_type": "code",
   "execution_count": 49,
   "metadata": {},
   "outputs": [],
   "source": [
    "df = pd.concat([df_train, df_val], axis = 0)"
   ]
  },
  {
   "cell_type": "code",
   "execution_count": 50,
   "metadata": {},
   "outputs": [
    {
     "name": "stdout",
     "output_type": "stream",
     "text": [
      "(29418, 21)\n"
     ]
    }
   ],
   "source": [
    "pred = pd.DataFrame()\n",
    "for i in [0.05, 0.1, 0.2]:\n",
    "    for j in [100, 1000, 10000, 200, 2000, 500, 4000]:\n",
    "        df_sub_ = testing(i, j)\n",
    "        pred = pd.concat([pred, df_sub_[[\"Probability\"]]], axis=1)\n",
    "print (pred.shape)"
   ]
  },
  {
   "cell_type": "code",
   "execution_count": 51,
   "metadata": {},
   "outputs": [],
   "source": [
    "df_sub = pd.concat([df_test[[\"file_id\"]], pred.mean(axis=1)], axis=1)\n",
    "df_sub.columns = [\"FileID\", \"Probability\"]\n",
    "df_sub.to_csv(\"submit/sub0323.csv\", index = False)"
   ]
  },
  {
   "cell_type": "code",
   "execution_count": null,
   "metadata": {},
   "outputs": [],
   "source": []
  }
 ],
 "metadata": {
  "kernelspec": {
   "display_name": "Python 3",
   "language": "python",
   "name": "python3"
  },
  "language_info": {
   "codemirror_mode": {
    "name": "ipython",
    "version": 3
   },
   "file_extension": ".py",
   "mimetype": "text/x-python",
   "name": "python",
   "nbconvert_exporter": "python",
   "pygments_lexer": "ipython3",
   "version": "3.6.4"
  }
 },
 "nbformat": 4,
 "nbformat_minor": 2
}
