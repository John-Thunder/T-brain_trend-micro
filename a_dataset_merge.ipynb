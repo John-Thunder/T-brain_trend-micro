{
 "cells": [
  {
   "cell_type": "code",
   "execution_count": 1,
   "metadata": {},
   "outputs": [],
   "source": [
    "import glob\n",
    "import pandas as pd"
   ]
  },
  {
   "cell_type": "raw",
   "metadata": {},
   "source": [
    "df = pd.read_csv(\"query_log/train1/0301.csv\", header=None, low_memory=False)\n",
    "df.columns = [\"file_id\",\"customer_id\",\"queryts\",\"product_id\"]\n",
    "df.head()"
   ]
  },
  {
   "cell_type": "code",
   "execution_count": 2,
   "metadata": {},
   "outputs": [],
   "source": [
    "def add_date(file_):\n",
    "    df_ = pd.read_csv(file_, header=None, low_memory=False)\n",
    "    df_.columns = [\"file_id\",\"customer_id\",\"queryts\",\"product_id\"]\n",
    "    df_[\"month\"] = file_[17:19]\n",
    "    df_[\"date\"] = file_[19:21]\n",
    "\n",
    "    df_.month = pd.to_numeric(df_.month, errors = 'coerce')\n",
    "    df_.date = pd.to_numeric(df_.date, errors = 'coerce')\n",
    "\n",
    "    month = file_[18:19]\n",
    "    if month == str(3):\n",
    "        df_[\"date_new\"] = df_.date\n",
    "    elif month == str(4):\n",
    "        df_[\"date_new\"] = df_.date + 31\n",
    "    else:\n",
    "        df_[\"date_new\"] = df_.date + 31 + 30\n",
    "\n",
    "    return df_"
   ]
  },
  {
   "cell_type": "code",
   "execution_count": 3,
   "metadata": {},
   "outputs": [
    {
     "name": "stdout",
     "output_type": "stream",
     "text": [
      "(6898481, 7)\n",
      "(17966156, 7)\n",
      "(21775315, 7)\n",
      "(11558635, 7)\n",
      "(21475256, 7)\n",
      "(3599267, 7)\n"
     ]
    }
   ],
   "source": [
    "for path_ in ['train1','train2','train3','test_1','test_2','test_3']:\n",
    "    allFiles = glob.glob(\"query_log/\" + path_ + \"/*.csv\")\n",
    "\n",
    "    df = pd.DataFrame()\n",
    "    for file_ in allFiles:\n",
    "        df_ = add_date(file_)\n",
    "        df = pd.concat([df, df_], axis=0)\n",
    "\n",
    "    df.to_pickle(\"dataset/\" + path_ + \".pkl\")\n",
    "    print (df.shape)"
   ]
  },
  {
   "cell_type": "code",
   "execution_count": 4,
   "metadata": {},
   "outputs": [
    {
     "name": "stdout",
     "output_type": "stream",
     "text": [
      "number of file : 81977\n",
      "train    52559\n",
      "test     29418\n",
      "Name: type, dtype: int64\n"
     ]
    }
   ],
   "source": [
    "df_train_set = pd.read_csv(\"dataset/training-set.csv\")\n",
    "df_test_set = pd.read_csv(\"dataset/testing-set.csv\")\n",
    "\n",
    "df_train_set[\"type\"] = 'train'\n",
    "df_test_set[\"type\"] = 'test'\n",
    "\n",
    "df_set = pd.concat([df_train_set, df_test_set], axis=0)\n",
    "\n",
    "print (\"number of file :\", len(set(df_set.file_id)))\n",
    "print (df_set.type.value_counts())"
   ]
  },
  {
   "cell_type": "code",
   "execution_count": 5,
   "metadata": {},
   "outputs": [],
   "source": [
    "df = pd.read_pickle(\"dataset/test_1.pkl\")\n",
    "df = pd.merge(df, df_set, how='left', on='file_id')"
   ]
  },
  {
   "cell_type": "code",
   "execution_count": 6,
   "metadata": {
    "scrolled": true
   },
   "outputs": [
    {
     "name": "stdout",
     "output_type": "stream",
     "text": [
      "train    7610293\n",
      "test     3948342\n",
      "Name: type, dtype: int64\n",
      "(7610293, 9) (3948342, 9)\n"
     ]
    }
   ],
   "source": [
    "df1 = df[(df.type == \"train\")]\n",
    "df2 = df[(df.type == \"test\")]\n",
    "\n",
    "print (df.type.value_counts())\n",
    "print (df1.shape,df2.shape)"
   ]
  },
  {
   "cell_type": "code",
   "execution_count": 7,
   "metadata": {},
   "outputs": [],
   "source": [
    "df1 = df1.drop([\"label\", \"type\"], axis=1)\n",
    "df2 = df2.drop([\"label\", \"type\"], axis=1)"
   ]
  },
  {
   "cell_type": "code",
   "execution_count": 8,
   "metadata": {},
   "outputs": [],
   "source": [
    "df1.to_pickle(\"dataset/valid.pkl\")\n",
    "df2.to_pickle(\"dataset/test_1.pkl\")"
   ]
  },
  {
   "cell_type": "code",
   "execution_count": 9,
   "metadata": {},
   "outputs": [
    {
     "data": {
      "text/plain": [
       "file_id        6c9489436c2148002f069f595f9b197d\n",
       "customer_id    64be4c0b64acd1012827dc87c9e13bca\n",
       "queryts                              1496016000\n",
       "product_id                               c76d58\n",
       "month                                         5\n",
       "date                                         29\n",
       "date_new                                     90\n",
       "Name: 0, dtype: object"
      ]
     },
     "execution_count": 9,
     "metadata": {},
     "output_type": "execute_result"
    }
   ],
   "source": [
    "df_.iloc[0, :]"
   ]
  },
  {
   "cell_type": "code",
   "execution_count": 10,
   "metadata": {},
   "outputs": [
    {
     "data": {
      "text/plain": [
       "file_id        9c1e66830d290960ef5f31d9b7a9be19\n",
       "customer_id    a3814a821245b96665fcad048f2d8fe5\n",
       "queryts                              1494288010\n",
       "product_id                               c105a0\n",
       "month                                         5\n",
       "date                                          9\n",
       "date_new                                     70\n",
       "Name: 0, dtype: object"
      ]
     },
     "execution_count": 10,
     "metadata": {},
     "output_type": "execute_result"
    }
   ],
   "source": [
    "df2.iloc[0, :]"
   ]
  },
  {
   "cell_type": "markdown",
   "metadata": {},
   "source": [
    "> clear"
   ]
  },
  {
   "cell_type": "code",
   "execution_count": null,
   "metadata": {},
   "outputs": [],
   "source": []
  }
 ],
 "metadata": {
  "kernelspec": {
   "display_name": "Python 3",
   "language": "python",
   "name": "python3"
  },
  "language_info": {
   "codemirror_mode": {
    "name": "ipython",
    "version": 3
   },
   "file_extension": ".py",
   "mimetype": "text/x-python",
   "name": "python",
   "nbconvert_exporter": "python",
   "pygments_lexer": "ipython3",
   "version": "3.6.4"
  }
 },
 "nbformat": 4,
 "nbformat_minor": 2
}
