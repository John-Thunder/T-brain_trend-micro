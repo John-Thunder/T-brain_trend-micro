{
 "cells": [
  {
   "cell_type": "code",
   "execution_count": 1,
   "metadata": {},
   "outputs": [],
   "source": [
    "import glob\n",
    "import numpy as np\n",
    "import pandas as pd"
   ]
  },
  {
   "cell_type": "code",
   "execution_count": 2,
   "metadata": {},
   "outputs": [
    {
     "name": "stdout",
     "output_type": "stream",
     "text": [
      "(81977, 3)\n"
     ]
    }
   ],
   "source": [
    "df_train_set = pd.read_csv(\"dataset/training-set.csv\")\n",
    "df_test_set = pd.read_csv(\"dataset/testing-set.csv\")\n",
    "\n",
    "df_train_set[\"type\"] = 'train'\n",
    "df_test_set[\"type\"] = 'test'\n",
    "\n",
    "df_set = pd.concat([df_train_set, df_test_set], axis = 0)\n",
    "print (df_set.shape)"
   ]
  },
  {
   "cell_type": "code",
   "execution_count": 3,
   "metadata": {},
   "outputs": [],
   "source": [
    "df_ = pd.read_csv(\"dataset/file_cust_prod_ct_uct.csv\")\n",
    "df_ = pd.merge(df_, df_set, how='left', on='file_id')"
   ]
  },
  {
   "cell_type": "code",
   "execution_count": 4,
   "metadata": {},
   "outputs": [
    {
     "name": "stdout",
     "output_type": "stream",
     "text": [
      "(45694, 41) (6824, 41) (29376, 41)\n"
     ]
    }
   ],
   "source": [
    "df_train = df_[(df_.type == 'train')&(df_.date_min <= 51)]\n",
    "df_val = df_[(df_.type == 'train')&(df_.date_min > 51)]\n",
    "df_test = df_[(df_.type == 'test')]\n",
    "\n",
    "print (df_train.shape, df_val.shape, df_test.shape)"
   ]
  },
  {
   "cell_type": "code",
   "execution_count": 5,
   "metadata": {},
   "outputs": [
    {
     "name": "stdout",
     "output_type": "stream",
     "text": [
      "(34962347, 6)\n"
     ]
    }
   ],
   "source": [
    "df = pd.DataFrame()\n",
    "for month_ in [\"train1\",\"train2\",\"train3\"]:\n",
    "    df_ = pd.read_pickle(\"dataset/\" + str(month_) + \".pkl\")\n",
    "    df = pd.concat([df, df_], axis=0)\n",
    "\n",
    "df = df.reset_index(drop=True)\n",
    "\n",
    "f = {'date_new': [\"min\"]}\n",
    "g = df.groupby([\"file_id\",\"customer_id\", \"product_id\"]).aggregate(f).reset_index()\n",
    "g.columns = [\"file_id\",\"customer_id\",\"product_id\",\"first_date\"]\n",
    "\n",
    "g = pd.merge(g, df_set, how='left', on='file_id')\n",
    "g = g.sort_values(by=[\"first_date\", \"file_id\"]).reset_index(drop=True)\n",
    "print (g.shape)"
   ]
  },
  {
   "cell_type": "code",
   "execution_count": 6,
   "metadata": {},
   "outputs": [
    {
     "data": {
      "text/html": [
       "<div>\n",
       "<style scoped>\n",
       "    .dataframe tbody tr th:only-of-type {\n",
       "        vertical-align: middle;\n",
       "    }\n",
       "\n",
       "    .dataframe tbody tr th {\n",
       "        vertical-align: top;\n",
       "    }\n",
       "\n",
       "    .dataframe thead th {\n",
       "        text-align: right;\n",
       "    }\n",
       "</style>\n",
       "<table border=\"1\" class=\"dataframe\">\n",
       "  <thead>\n",
       "    <tr style=\"text-align: right;\">\n",
       "      <th></th>\n",
       "      <th>file_id</th>\n",
       "      <th>customer_id</th>\n",
       "      <th>product_id</th>\n",
       "      <th>first_date</th>\n",
       "      <th>label</th>\n",
       "      <th>type</th>\n",
       "    </tr>\n",
       "  </thead>\n",
       "  <tbody>\n",
       "    <tr>\n",
       "      <th>0</th>\n",
       "      <td>0087304d5bee451f0d82c7407b0fa7d1</td>\n",
       "      <td>282396145a3df4452761bacf8049f6db</td>\n",
       "      <td>3ea8c3</td>\n",
       "      <td>1</td>\n",
       "      <td>0.0</td>\n",
       "      <td>train</td>\n",
       "    </tr>\n",
       "    <tr>\n",
       "      <th>1</th>\n",
       "      <td>0087304d5bee451f0d82c7407b0fa7d1</td>\n",
       "      <td>501782bb051c5368f641f5299e550f32</td>\n",
       "      <td>20f8a5</td>\n",
       "      <td>1</td>\n",
       "      <td>0.0</td>\n",
       "      <td>train</td>\n",
       "    </tr>\n",
       "    <tr>\n",
       "      <th>2</th>\n",
       "      <td>0087304d5bee451f0d82c7407b0fa7d1</td>\n",
       "      <td>54a57555a85251b45a9de37ba95a4cf3</td>\n",
       "      <td>7acab3</td>\n",
       "      <td>1</td>\n",
       "      <td>0.0</td>\n",
       "      <td>train</td>\n",
       "    </tr>\n",
       "    <tr>\n",
       "      <th>3</th>\n",
       "      <td>0087304d5bee451f0d82c7407b0fa7d1</td>\n",
       "      <td>662a1f7c7441bace48defd0f1947bc36</td>\n",
       "      <td>7acab3</td>\n",
       "      <td>1</td>\n",
       "      <td>0.0</td>\n",
       "      <td>train</td>\n",
       "    </tr>\n",
       "    <tr>\n",
       "      <th>4</th>\n",
       "      <td>0087304d5bee451f0d82c7407b0fa7d1</td>\n",
       "      <td>71a15fcfe2741879c0d3a4588c011dae</td>\n",
       "      <td>7acab3</td>\n",
       "      <td>1</td>\n",
       "      <td>0.0</td>\n",
       "      <td>train</td>\n",
       "    </tr>\n",
       "  </tbody>\n",
       "</table>\n",
       "</div>"
      ],
      "text/plain": [
       "                            file_id                       customer_id  \\\n",
       "0  0087304d5bee451f0d82c7407b0fa7d1  282396145a3df4452761bacf8049f6db   \n",
       "1  0087304d5bee451f0d82c7407b0fa7d1  501782bb051c5368f641f5299e550f32   \n",
       "2  0087304d5bee451f0d82c7407b0fa7d1  54a57555a85251b45a9de37ba95a4cf3   \n",
       "3  0087304d5bee451f0d82c7407b0fa7d1  662a1f7c7441bace48defd0f1947bc36   \n",
       "4  0087304d5bee451f0d82c7407b0fa7d1  71a15fcfe2741879c0d3a4588c011dae   \n",
       "\n",
       "  product_id  first_date  label   type  \n",
       "0     3ea8c3           1    0.0  train  \n",
       "1     20f8a5           1    0.0  train  \n",
       "2     7acab3           1    0.0  train  \n",
       "3     7acab3           1    0.0  train  \n",
       "4     7acab3           1    0.0  train  "
      ]
     },
     "execution_count": 6,
     "metadata": {},
     "output_type": "execute_result"
    }
   ],
   "source": [
    "g.head()"
   ]
  },
  {
   "cell_type": "raw",
   "metadata": {},
   "source": [
    "f = {'date_new': [\"min\"]}\n",
    "g = df.groupby([\"file_id\",\"customer_id\", \"product_id\"]).aggregate(f).reset_index()\n",
    "g.columns = [\"file_id\",\"customer_id\",\"product_id\",\"first_date\"]\n",
    "\n",
    "f = {'date_new': [\"min\"]}\n",
    "g = df.groupby([\"file_id\",\"custXprod_id\"]).aggregate(f).reset_index()\n",
    "g.columns = [\"file_id\",\"custXprod_id\",\"first_date\"]"
   ]
  },
  {
   "cell_type": "code",
   "execution_count": 7,
   "metadata": {},
   "outputs": [
    {
     "name": "stdout",
     "output_type": "stream",
     "text": [
      "(34962347, 6) (0, 6)\n"
     ]
    }
   ],
   "source": [
    "g_train = g[g.file_id.isin(df_train.file_id)]\n",
    "g_val = g[g.file_id.isin(df_val.file_id)]\n",
    "\n",
    "print (g_train.shape, g_val.shape)"
   ]
  },
  {
   "cell_type": "code",
   "execution_count": 8,
   "metadata": {},
   "outputs": [],
   "source": [
    "# cumsum, cumcount customer_id\n",
    "\n",
    "g_train['label_cumsum'] = g_train.groupby(['customer_id'])['label'].cumsum()\n",
    "g_train['label_cumcount'] = g_train.groupby(['customer_id'])['label'].cumcount()  \n",
    "\n",
    "g_train[\"label_cs\"] = g_train.label_cumsum - g_train.label\n",
    "g_train[\"cust_me\"] = g_train.label_cs / (g_train.label_cumcount + 1e-10)"
   ]
  },
  {
   "cell_type": "code",
   "execution_count": 9,
   "metadata": {},
   "outputs": [
    {
     "name": "stdout",
     "output_type": "stream",
     "text": [
      "(44830, 5)\n"
     ]
    }
   ],
   "source": [
    "f = {'cust_me': [\"mean\",\"std\",\"max\",\"min\"]}\n",
    "g_train_me = g_train.groupby([\"file_id\"]).aggregate(f).reset_index()\n",
    "g_train_me.columns = [\"file_id\", \"cust_me_mean\", \"cust_me_std\", \"cust_me_max\", \"cust_me_min\"]\n",
    "print (g_train_me.shape)"
   ]
  },
  {
   "cell_type": "code",
   "execution_count": 10,
   "metadata": {},
   "outputs": [
    {
     "data": {
      "text/plain": [
       "file_id            0\n",
       "cust_me_mean       0\n",
       "cust_me_std     1472\n",
       "cust_me_max        0\n",
       "cust_me_min        0\n",
       "dtype: int64"
      ]
     },
     "execution_count": 10,
     "metadata": {},
     "output_type": "execute_result"
    }
   ],
   "source": [
    "g_train_me.isnull().sum()"
   ]
  },
  {
   "cell_type": "markdown",
   "metadata": {},
   "source": [
    "### Testing Set Mean Encoding"
   ]
  },
  {
   "cell_type": "code",
   "execution_count": 11,
   "metadata": {},
   "outputs": [],
   "source": [
    "f = {'first_date': [\"max\"], 'cust_me': lambda x: list(x)[-1]}\n",
    "g_cust_last = g_train.groupby([\"customer_id\"]).aggregate(f).reset_index()\n",
    "g_cust_last.columns = [\"customer_id\", \"last_date\", \"cust_me\"]"
   ]
  },
  {
   "cell_type": "code",
   "execution_count": 12,
   "metadata": {},
   "outputs": [
    {
     "name": "stdout",
     "output_type": "stream",
     "text": [
      "(27040934, 8)\n"
     ]
    }
   ],
   "source": [
    "df = pd.DataFrame()\n",
    "for month_ in [\"test_1\",\"test_2\",\"test_3\",\"valid\"]:\n",
    "    df_ = pd.read_pickle(\"dataset/\" + str(month_) + \".pkl\")\n",
    "    df = pd.concat([df, df_], axis=0)\n",
    "\n",
    "df = df.reset_index(drop=True)\n",
    "f = {'date_new': [\"min\"]}\n",
    "g = df.groupby([\"file_id\",\"customer_id\"]).aggregate(f).reset_index()\n",
    "g.columns = [\"file_id\",\"customer_id\",\"first_date\"]\n",
    "\n",
    "g = pd.concat([g, g_val], axis=0)\n",
    "\n",
    "g = pd.merge(g, g_cust_last, how='left', on='customer_id')\n",
    "g = g.sort_values(by=[\"first_date\", \"file_id\"]).reset_index(drop=True)\n",
    "print (g.shape)"
   ]
  },
  {
   "cell_type": "code",
   "execution_count": 13,
   "metadata": {
    "scrolled": true
   },
   "outputs": [
    {
     "name": "stdout",
     "output_type": "stream",
     "text": [
      "(40117, 5)\n"
     ]
    }
   ],
   "source": [
    "f = {'cust_me': [\"mean\",\"std\",\"max\",\"min\"]}\n",
    "g_test_me = g.groupby([\"file_id\"]).aggregate(f).reset_index()\n",
    "g_test_me.columns = [\"file_id\", \"cust_me_mean\", \"cust_me_std\", \"cust_me_max\", \"cust_me_min\"]\n",
    "print (g_test_me.shape)"
   ]
  },
  {
   "cell_type": "code",
   "execution_count": 14,
   "metadata": {},
   "outputs": [],
   "source": [
    "g = pd.concat([g_train_me, g_test_me], axis=0)"
   ]
  },
  {
   "cell_type": "code",
   "execution_count": 15,
   "metadata": {},
   "outputs": [
    {
     "data": {
      "text/plain": [
       "file_id            0\n",
       "cust_me_mean     878\n",
       "cust_me_std     4581\n",
       "cust_me_max      878\n",
       "cust_me_min      878\n",
       "dtype: int64"
      ]
     },
     "execution_count": 15,
     "metadata": {},
     "output_type": "execute_result"
    }
   ],
   "source": [
    "g.isnull().sum()"
   ]
  },
  {
   "cell_type": "code",
   "execution_count": 16,
   "metadata": {},
   "outputs": [],
   "source": [
    "g['cust_me_mean'] = g['cust_me_mean'].fillna(g['cust_me_mean'].mean())\n",
    "g['cust_me_min'] = g['cust_me_min'].fillna(g['cust_me_min'].min())\n",
    "g['cust_me_max'] = g['cust_me_max'].fillna(g['cust_me_max'].max())\n",
    "g['cust_me_std'] = g['cust_me_std'].fillna(-999.0)"
   ]
  },
  {
   "cell_type": "code",
   "execution_count": 17,
   "metadata": {},
   "outputs": [],
   "source": [
    "g.columns = ['file_id','custXprod_me_mean','custXprod_me_std','custXprod_me_max','custXprod_me_min']"
   ]
  },
  {
   "cell_type": "code",
   "execution_count": 18,
   "metadata": {},
   "outputs": [],
   "source": [
    "g.to_csv(\"dataset/custXprod_ec_new.csv\", index=False)"
   ]
  },
  {
   "cell_type": "code",
   "execution_count": null,
   "metadata": {},
   "outputs": [],
   "source": []
  }
 ],
 "metadata": {
  "kernelspec": {
   "display_name": "Python 3",
   "language": "python",
   "name": "python3"
  },
  "language_info": {
   "codemirror_mode": {
    "name": "ipython",
    "version": 3
   },
   "file_extension": ".py",
   "mimetype": "text/x-python",
   "name": "python",
   "nbconvert_exporter": "python",
   "pygments_lexer": "ipython3",
   "version": "3.6.4"
  }
 },
 "nbformat": 4,
 "nbformat_minor": 2
}
