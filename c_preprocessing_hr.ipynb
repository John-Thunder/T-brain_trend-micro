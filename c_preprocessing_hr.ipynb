{
 "cells": [
  {
   "cell_type": "code",
   "execution_count": 1,
   "metadata": {},
   "outputs": [],
   "source": [
    "import pandas as pd\n",
    "import numpy as np"
   ]
  },
  {
   "cell_type": "code",
   "execution_count": 2,
   "metadata": {},
   "outputs": [],
   "source": [
    "# split to hour, minute, second\n",
    "\n",
    "def add_time_string(df):\n",
    "    df = df.reset_index(drop=True)\n",
    "    df[\"queryts_new\"] = pd.DataFrame(pd.to_datetime(df.queryts, unit='s'))\n",
    "    df.queryts_new = df.queryts_new.astype(str)\n",
    "\n",
    "    con = pd.DataFrame(df.queryts_new.str.split(\" \",2).tolist(), columns = ['a','b'])\n",
    "    con1 = pd.DataFrame(con.b.str.split(\":\",3).tolist(), columns = ['hr','min','sec'])\n",
    "    df[\"hr\"] = con1.hr\n",
    "    df.hr = pd.to_numeric(df.hr, errors = 'coerce')\n",
    "\n",
    "    print (df.shape)\n",
    "    return df"
   ]
  },
  {
   "cell_type": "code",
   "execution_count": 3,
   "metadata": {},
   "outputs": [],
   "source": [
    "# 每個檔案(出現時段平均, 出現時段標準差, 出現時段唯一數量)\n",
    "\n",
    "def groupby_file_hr(df_val):\n",
    "    f = {'hr': ['mean', 'std', lambda x: len(set(x))]}\n",
    "\n",
    "    g = df_val.groupby([\"file_id\"]).aggregate(f).reset_index()\n",
    "    g.columns = [\"file_id\", \"file_id_hr_mean\", \"file_id_hr_std\", \"file_id_hr_count\"]\n",
    "    g.file_id_hr_std = g.file_id_hr_std.fillna(0)\n",
    "\n",
    "    print (g.shape)\n",
    "    return g"
   ]
  },
  {
   "cell_type": "code",
   "execution_count": 4,
   "metadata": {},
   "outputs": [],
   "source": [
    "# 一天每小時的檔案數量(平均, 標準差, 極大值, 極小值)\n",
    "# 一天每小時的顧客X商品唯一數量(平均, 標準差, 極大值, 極小值)\n",
    "\n",
    "def two_minus_one(x):\n",
    "    x = list(x)\n",
    "    if len(x) > 1:\n",
    "        m_ = x[1] - x[0]\n",
    "    else:\n",
    "        m_ = x[0] - x[0]\n",
    "    return m_\n",
    "\n",
    "def groupby_file_hrcount_perday(df_val):\n",
    "    # step 1: 算出(file_id, custXprod_id, hour)的(數量, 顧客商品對)的數量\n",
    "    f = {'custXprod_id': ['count', lambda x: len(set(x))]}\n",
    "    g1 = df_val.groupby([\"file_id\", \"date_new\", \"hr\"]).aggregate(f).reset_index()\n",
    "    g1.columns = [\"file_id\", \"date_new\", \"hr\",\n",
    "                  \"file_id_hr_count\", \"custXprod_id_hr_count\"]\n",
    "    g1[\"custXprod_id_hr_count_file_id_hr_count_ratio\"] = g1.custXprod_id_hr_count / g1.file_id_hr_count\n",
    "\n",
    "    # step 2: 算出(file_id, custXprod_id)在每一天，小時的(平均, 標準差, 極大值, 極小值)\n",
    "    col_g2 = [\"file_id\", \"date_new\"]\n",
    "    for varible_ in g1.columns[3:]:\n",
    "        for stat in [\"_mean\", \"_std\", \"_max\", \"_min\"]:\n",
    "            col_g2.append(varible_ + stat)\n",
    "\n",
    "    f_ = ['mean', 'std', 'max', 'min']\n",
    "    f1 = {g1.columns[3]: f_, g1.columns[4]: f_, g1.columns[5]: f_}\n",
    "\n",
    "    g2 = g1.groupby(['file_id', 'date_new']).aggregate(f1).reset_index()\n",
    "    g2.columns = col_g2\n",
    "    g2 = g2.fillna(0)\n",
    "\n",
    "    f2 = lambda x: x - min(x)\n",
    "    g2_1 = g2.groupby('file_id')[\"date_new\"].apply(f2).reset_index(drop = True)\n",
    "    g2[\"date_perfile\"] = g2_1\n",
    "\n",
    "    # step 3: 列出第一天(file_id, custXprod_id)在第一天，小時的(平均, 標準差, 極大值, 極小值)\n",
    "    g3_col = ['file_id']\n",
    "    for d in range(1):\n",
    "        for varible_ in g2.columns[2:14]:\n",
    "            g3_col.append(varible_ + \"_d\" + str(d))\n",
    "\n",
    "    g3 = g2[(g2.date_perfile == 0)]\n",
    "    g3 = g3.drop(['date_new', 'date_perfile'], axis=1)\n",
    "    g3.columns = g3_col\n",
    "    print (\"shape of dataframe about Hour1 :\", g3.shape)\n",
    "\n",
    "    # step 4: 最大流量每小時\n",
    "    f1 = {\"file_id_hr_count\": 'max',\n",
    "          \"custXprod_id_hr_count\": 'max'}\n",
    "\n",
    "    g = g1.groupby(['file_id']).aggregate(f1).reset_index()\n",
    "    g.columns = ['file_id', 'file_id_hr_count_max', 'custXprod_id_hr_count_max']\n",
    "    print (\"shape of dataframe about Hour2 :\", g.shape)\n",
    "\n",
    "    # step 5: 利用step2得到的資料集算出一些資訊(mean, max_minus_min, two_minus_one)\n",
    "    col_ = g2.columns\n",
    "    col_g4_1 = [\"file_id\"]\n",
    "    for i in [2,3,6,7,10,11]:\n",
    "        col_g4_1.append(col_[i]+\"_mean\")\n",
    "        col_g4_1.append(col_[i]+\"_mmm\")\n",
    "    f_ = ['mean', lambda x: max(x) - min(x)]\n",
    "    f3 = {col_[2]: f_, col_[3]: f_, col_[6]: f_, col_[7]: f_, col_[10]: f_, col_[11]: f_}\n",
    "    g4_1 = g2.groupby(['file_id']).agg(f3).reset_index()\n",
    "    g4_1.columns = col_g4_1\n",
    "\n",
    "    col_g4_2 = [\"file_id\"]\n",
    "    for i in [2,3,6,7,10,11]:\n",
    "        col_g4_2.append(col_[i]+\"_tmo\")\n",
    "\n",
    "    f_ = [lambda x: two_minus_one(x)]\n",
    "    f4 = {col_[2]: f_, col_[3]: f_, col_[6]: f_, col_[7]: f_, col_[10]: f_, col_[11]: f_}\n",
    "    g4_2 = g2.groupby(['file_id']).agg(f4).reset_index()\n",
    "    g4_2.columns = col_g4_2\n",
    "\n",
    "    g4 = pd.merge(g4_1, g4_2, how=\"left\", on=\"file_id\")\n",
    "    print (\"shape of dataframe about Hour3 :\", g4.shape)\n",
    "\n",
    "    g = pd.merge(g, g3, how = \"left\", on = \"file_id\")\n",
    "    g = pd.merge(g, g4, how = \"left\", on = \"file_id\")\n",
    "    return g"
   ]
  },
  {
   "cell_type": "code",
   "execution_count": 5,
   "metadata": {},
   "outputs": [
    {
     "name": "stdout",
     "output_type": "stream",
     "text": [
      "(54250245, 9)\n",
      "(52518, 4)\n",
      "shape of dataframe about Hour1 : (52518, 13)\n",
      "shape of dataframe about Hour2 : (52518, 3)\n",
      "shape of dataframe about Hour3 : (52518, 19)\n",
      "(52518, 36)\n"
     ]
    }
   ],
   "source": [
    "df = pd.DataFrame()\n",
    "for file_ in [\"train1\",\"train2\",\"train3\",\"valid\"]:\n",
    "    df_ = pd.read_pickle(\"dataset/\" + str(file_) + \".pkl\")\n",
    "    df = pd.concat([df, df_], axis=0)\n",
    "    \n",
    "df = add_time_string(df)\n",
    "df['custXprod_id'] = df.customer_id + df.product_id\n",
    "\n",
    "g_train = groupby_file_hr(df)\n",
    "g2 = groupby_file_hrcount_perday(df)\n",
    "\n",
    "g_train = pd.merge(g_train, g2, how = \"left\", on = \"file_id\")\n",
    "print (g_train.shape)"
   ]
  },
  {
   "cell_type": "code",
   "execution_count": 6,
   "metadata": {},
   "outputs": [
    {
     "name": "stdout",
     "output_type": "stream",
     "text": [
      "(29022865, 9)\n",
      "(29376, 4)\n",
      "shape of dataframe about Hour1 : (29376, 13)\n",
      "shape of dataframe about Hour2 : (29376, 3)\n",
      "shape of dataframe about Hour3 : (29376, 19)\n",
      "(29376, 36)\n"
     ]
    }
   ],
   "source": [
    "df = pd.DataFrame()\n",
    "for file_ in [\"test_1\",\"test_2\",\"test_3\"]:\n",
    "    df_ = pd.read_pickle(\"dataset/\" + str(file_) + \".pkl\")\n",
    "    df = pd.concat([df, df_], axis=0)\n",
    "\n",
    "df = add_time_string(df)\n",
    "df['custXprod_id'] = df.customer_id + df.product_id\n",
    "\n",
    "g_test = groupby_file_hr(df)\n",
    "g2 = groupby_file_hrcount_perday(df)\n",
    "\n",
    "g_test = pd.merge(g_test, g2, how = \"left\", on = \"file_id\")\n",
    "print (g_test.shape)"
   ]
  },
  {
   "cell_type": "raw",
   "metadata": {},
   "source": [
    "import pylab\n",
    "import matplotlib.pyplot as plt\n",
    "\n",
    "pylab.rcParams['figure.figsize'] = (14.0, 5.0)\n",
    "\n",
    "for v_ in g_val.columns[31:]:\n",
    "    g_val.dropna().boxplot(v_,'label')\n",
    "    plt.show()"
   ]
  },
  {
   "cell_type": "code",
   "execution_count": 7,
   "metadata": {},
   "outputs": [],
   "source": [
    "g = pd.concat([g_train, g_test], axis=0)\n",
    "\n",
    "g.to_csv(\"dataset/hour.csv\", index=False)"
   ]
  },
  {
   "cell_type": "code",
   "execution_count": 8,
   "metadata": {},
   "outputs": [
    {
     "name": "stdout",
     "output_type": "stream",
     "text": [
      "(81894, 36)\n"
     ]
    },
    {
     "data": {
      "text/plain": [
       "file_id                                                   0000e2398b12121a85166fed5fe2a3da\n",
       "file_id_hr_mean                                                                    8.04255\n",
       "file_id_hr_std                                                                     1.26761\n",
       "file_id_hr_count                                                                         5\n",
       "file_id_hr_count_max                                                                    38\n",
       "custXprod_id_hr_count_max                                                                1\n",
       "file_id_hr_count_mean_d0                                                             10.75\n",
       "file_id_hr_count_std_d0                                                            18.1728\n",
       "file_id_hr_count_max_d0                                                                 38\n",
       "file_id_hr_count_min_d0                                                                  1\n",
       "custXprod_id_hr_count_mean_d0                                                            1\n",
       "custXprod_id_hr_count_std_d0                                                             0\n",
       "custXprod_id_hr_count_max_d0                                                             1\n",
       "custXprod_id_hr_count_min_d0                                                             1\n",
       "custXprod_id_hr_count_file_id_hr_count_ratio_mean_d0                              0.506579\n",
       "custXprod_id_hr_count_file_id_hr_count_ratio_std_d0                               0.397577\n",
       "custXprod_id_hr_count_file_id_hr_count_ratio_max_d0                                      1\n",
       "custXprod_id_hr_count_file_id_hr_count_ratio_min_d0                              0.0263158\n",
       "file_id_hr_count_mean_mean                                                         4.91667\n",
       "file_id_hr_count_mean_mmm                                                             9.75\n",
       "file_id_hr_count_std_mean                                                          6.05759\n",
       "file_id_hr_count_std_mmm                                                           18.1728\n",
       "custXprod_id_hr_count_mean_mean                                                          1\n",
       "custXprod_id_hr_count_mean_mmm                                                           0\n",
       "custXprod_id_hr_count_std_mean                                                           0\n",
       "custXprod_id_hr_count_std_mmm                                                            0\n",
       "custXprod_id_hr_count_file_id_hr_count_ratio_mean_mean                            0.613304\n",
       "custXprod_id_hr_count_file_id_hr_count_ratio_mean_mmm                             0.666667\n",
       "custXprod_id_hr_count_file_id_hr_count_ratio_std_mean                             0.132526\n",
       "custXprod_id_hr_count_file_id_hr_count_ratio_std_mmm                              0.397577\n",
       "file_id_hr_count_mean_tmo                                                            -7.75\n",
       "file_id_hr_count_std_tmo                                                          -18.1728\n",
       "custXprod_id_hr_count_mean_tmo                                                           0\n",
       "custXprod_id_hr_count_std_tmo                                                            0\n",
       "custXprod_id_hr_count_file_id_hr_count_ratio_mean_tmo                            -0.173246\n",
       "custXprod_id_hr_count_file_id_hr_count_ratio_std_tmo                             -0.397577\n",
       "Name: 0, dtype: object"
      ]
     },
     "execution_count": 8,
     "metadata": {},
     "output_type": "execute_result"
    }
   ],
   "source": [
    "print (g.shape)\n",
    "g.iloc[0, :]"
   ]
  },
  {
   "cell_type": "code",
   "execution_count": null,
   "metadata": {},
   "outputs": [],
   "source": []
  }
 ],
 "metadata": {
  "kernelspec": {
   "display_name": "Python 3",
   "language": "python",
   "name": "python3"
  },
  "language_info": {
   "codemirror_mode": {
    "name": "ipython",
    "version": 3
   },
   "file_extension": ".py",
   "mimetype": "text/x-python",
   "name": "python",
   "nbconvert_exporter": "python",
   "pygments_lexer": "ipython3",
   "version": "3.6.4"
  }
 },
 "nbformat": 4,
 "nbformat_minor": 2
}
